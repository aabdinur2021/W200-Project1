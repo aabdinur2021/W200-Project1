{
 "cells": [
  {
   "cell_type": "markdown",
   "metadata": {
    "deletable": false,
    "editable": false,
    "nbgrader": {
     "cell_type": "markdown",
     "checksum": "3bc3d9e80d0aec62fe15a96b5196554d",
     "grade": false,
     "grade_id": "cell-4cc0ffd6a5810c6d",
     "locked": true,
     "schema_version": 3,
     "solution": false
    }
   },
   "source": [
    "## Week 5 Assignment - W200 Introduction to Data Science Programming, UC Berkeley MIDS"
   ]
  },
  {
   "cell_type": "markdown",
   "metadata": {
    "deletable": false,
    "editable": false,
    "nbgrader": {
     "cell_type": "markdown",
     "checksum": "1cf85e0ec46dbd509e4c38f494751466",
     "grade": false,
     "grade_id": "cell-1f3ffd327d56ecbc",
     "locked": true,
     "schema_version": 3,
     "solution": false
    }
   },
   "source": [
    "Write code in this jupyter Notebook to solve each of the following problems. Each problem should have its solution in a separate cell. Please upload this **Notebook** with your solutions to your GitHub repository in your SUBMISSIONS/week_05 folder by 11:59PM PST the night before class."
   ]
  },
  {
   "cell_type": "markdown",
   "metadata": {
    "deletable": false,
    "editable": false,
    "nbgrader": {
     "cell_type": "markdown",
     "checksum": "b6451066bcf587bf0e54b0d80b5cf0b3",
     "grade": false,
     "grade_id": "cell-c398835a920065f4",
     "locked": true,
     "schema_version": 3,
     "solution": false
    }
   },
   "source": [
    "## Objectives:\n",
    "\n",
    "- Demonstrate how to define functions \n",
    "- Understand how to call functions from within other functions\n",
    "- Understand how to return results from a function\n",
    "- Use the Python namespace to configure variables\n",
    "- Use functions as objects to pass to other functions\n",
    "- Design and implement a recursive function\n",
    "- Demonstrate knowledge of the Try/Except error checking statements"
   ]
  },
  {
   "cell_type": "markdown",
   "metadata": {
    "deletable": false,
    "editable": false,
    "nbgrader": {
     "cell_type": "markdown",
     "checksum": "f9e1d7f7b8b3f5926cf1db4c285d9834",
     "grade": false,
     "grade_id": "cell-bc58b3da65c5de3c",
     "locked": true,
     "schema_version": 3,
     "solution": false
    }
   },
   "source": [
    "## General Guidelines:\n",
    "\n",
    "- All calculations need to be done in the functions (that includes any formatting)\n",
    "- Name your functions exactly as written in the problem statement\n",
    "- Please have your functions return the answer rather than printing it inside the function\n",
    "- Do not make a separate input() statement.  The functions will be passed the input as shown in the examples\n",
    "- The examples given are samples of how we will test/grade your code. Please ensure your functions output the same information\n",
    "- Answer format is graded - please match the examples\n",
    "- Other than for Part 5, user / function inputs do not need to be validated or checked. (For example, if the problem states input an integer we will check it by inputting an integer)\n",
    "- Docstrings and comments in your code are strongly suggested but won't be graded\n",
    "- This homework is mostly auto-graded.  The blank code blocks are the auto-grading scripts - please do not delete these!\n",
    "- Your code needs to be written in the ```#Your Code Here``` blocks or it wont be graded correctly.\n",
    "- There are also test cells for you to test your functions against the examples and the autograder. Please try to format your output so that the autograder will read it correctly. That being said, if you are confident your answer is correct and the auotograder still doesn't like it, you don't need to spend time trying to figure it out. Every answer that the autograder marks incorrect, we will manually check for completeness!"
   ]
  },
  {
   "cell_type": "markdown",
   "metadata": {
    "deletable": false,
    "editable": false,
    "nbgrader": {
     "cell_type": "markdown",
     "checksum": "60eda84a4f636ea9a32cfc520412bf7f",
     "grade": false,
     "grade_id": "cell-855c75985f9edefd",
     "locked": true,
     "schema_version": 3,
     "solution": false
    }
   },
   "source": [
    "## 5-1. Function Exercises\n",
    "\n",
    "### 5-1-1. Nested (\"Wrapped\") Functions (10 points)\n",
    "For this question, please write three functions as follows:\n",
    "\n",
    "- `sum_digits`:   a function which takes an `int` and returns the sum of its (positive value) digits. \n",
    "\n",
    "- `diff_sum_digits`:   a function that \"wraps\" `sum_digits` in that it calls `sum_digits` from within it. Use the `diff_sum_digits` function to compute the absolute value of the input number minus the sum of digits of the input number.\n",
    "\n",
    "- `wraps_diff_sum_digits`:   a function that \"wraps\" `diff_sum_digits`. If `diff_sum_digits` returns a result that has more than one digit have this new function replace the result with the sum of the digits of the result. Do this repeatedly until the result has just one digit, then display it. \n",
    "\n",
    "- Note: The nested functions (all three functions above) will always run through once - even if the inputted number is only one digit!\n",
    "\n",
    "To illustrate this with an example:\n",
    "- The input number is 20 as in: wraps_diff_sum_digits(20)\n",
    "- wraps_diff_sum_digits calls diff_sum_digits(20) which calls sum_digits(20)\n",
    "- sum_digits adds the numbers (2+0 = 2) returns a 2, diff_sum_digits subtracts (20-2 = 18) and returns this to wraps_diff_sum_digits\n",
    "- wraps_diff_sum_digits sees that the number 18 stills has 2 digits and calls diff_sum_digits(18) which calls sum_digits(18)\n",
    "- sum_digits add the numbers (1+8 = 9) returns a 9, diff_sum_digits subtracts (18-9 = 9) and returns this to wraps_diff_sum_digits\n",
    "- wraps_diff_sum_digits sees that the number 9 only has 1 digit - stops and returns the value 9.\n",
    "\n",
    "Below you'll find an example of what we mean when we say \"wraps\"."
   ]
  },
  {
   "cell_type": "code",
   "execution_count": null,
   "metadata": {
    "deletable": false,
    "editable": false,
    "nbgrader": {
     "cell_type": "code",
     "checksum": "c02d1826d05a9a1c104d364c97b90b07",
     "grade": false,
     "grade_id": "cell-dfddd13006f81c36",
     "locked": true,
     "schema_version": 3,
     "solution": false
    }
   },
   "outputs": [],
   "source": [
    "result = [(x, y, z) for x in range(1, 60) for y in range(x, 60) for z in range(y, 60) if x * x + y * y == z * z]\n",
    "print(result)"
   ]
  },
  {
   "cell_type": "code",
   "execution_count": null,
   "metadata": {
    "deletable": false,
    "nbgrader": {
     "cell_type": "code",
     "checksum": "0c8b16cc83870574b0fc9c791aa2b0d5",
     "grade": false,
     "grade_id": "cell-c373bf43a4b7ada6",
     "locked": false,
     "schema_version": 3,
     "solution": true
    }
   },
   "outputs": [],
   "source": [
    "# YOUR CODE HERE\n",
    "word = \"As he crossed toward the pharmacy at the corner he involuntarily turned his head because of a burst of light that had ricocheted from his temple, and saw, with that quick smile with which we greet a rainbow or a rose, a blindingly white parallelogram of sky being unloaded from the van—a dresser with mirrors across which, as across a cinema screen, passed a flawlessly clear reflection of boughs sliding and swaying not arboreally, but with a human vacillation, produced by the nature of those who were carrying this sky, these boughs, this gliding façade.\"\n",
    "result = [word[0:i] + word[i + 1: len(word)] for i in range(len(word))]\n",
    "print(result)"
   ]
  },
  {
   "cell_type": "code",
   "execution_count": null,
   "metadata": {},
   "outputs": [],
   "source": [
    "word = \"On offering to help the blind man, the man who then stole his car, had not, at that precise moment, had any evil intention, quite the contrary, what he did was nothing more than obey those feelings of generosity and altruism which, as everyone knows, are the two best traits of human nature and to be found in much more hardened criminals than this one, a simple car-thief without any hope of advancing in his profession, exploited by the real owners of this enterprise, for it is they who take advantage of the needs of the poor.\"\n",
    "\n",
    "result = [word[0:i] + ch + word[i+1:len(word)] for i in range(len(word)) if word[i] in 'aeiou' for ch in 'aeiou' if ch != word[i]]\n",
    "print(result)"
   ]
  },
  {
   "cell_type": "code",
   "execution_count": null,
   "metadata": {},
   "outputs": [],
   "source": [
    "# Q4-2-4 Grading Tag:\n",
    "# This only supports integer numbers since example prints x as an integer. \n",
    "from math import trunc\n",
    "\n",
    "x = 10000000000\n",
    "\n",
    "epsilon = 0.0000000001\n",
    "step = 1\n",
    "guess = 0\n",
    "while step > epsilon:\n",
    "    guess = guess + step\n",
    "    while guess * guess < x:\n",
    "        guess = guess + step\n",
    "    guess = guess - step\n",
    "    step = step / 10\n",
    "if trunc(x) == x:\n",
    "    x = trunc(x)\n",
    "print(F\"The square root of {x} is {guess:.10f}.\")"
   ]
  },
  {
   "cell_type": "markdown",
   "metadata": {
    "deletable": false,
    "editable": false,
    "nbgrader": {
     "cell_type": "markdown",
     "checksum": "c69c5491c7bfbc669f3cbf9f397ab0b1",
     "grade": false,
     "grade_id": "cell-85c3853b6cda85dd",
     "locked": true,
     "schema_version": 3,
     "solution": false
    }
   },
   "source": [
    "You can use the sample output in below cell to sanity check your work.\n",
    "\n",
    "We also show you some of the tests we will run below. If you get an error that assert_equal is not defined you need to run the first cell again that does: \n",
    "```\n",
    "from nose.tools import assert_equal\n",
    "```\n",
    "If for some reason, the package wasn't installed you can install it with:\n",
    "```\n",
    "conda install nose (or conda install -c anaconda nose)\n",
    "```"
   ]
  },
  {
   "cell_type": "markdown",
   "metadata": {
    "deletable": false,
    "editable": false,
    "nbgrader": {
     "cell_type": "markdown",
     "checksum": "e1bd8ba85a636dac9f6115806ef04549",
     "grade": false,
     "grade_id": "cell-4fe5ba9f67aac0d8",
     "locked": true,
     "schema_version": 3,
     "solution": false
    }
   },
   "source": [
    "### 5-1-2. Pigs, Continued (10 points + 5 Extra Credit points)\n",
    "\n",
    "Write a function `is_consonant` that takes a character and returns `True` if it is a consonant.\n",
    "\n",
    "Use your function to create a new function `to_piglatin` that takes a word, moves all starting consonants (all consonants before the first vowel) to the end of the word, then adds *ay* to the end and returns the result. You may expect that the input to the function will be just one word. (we know this isn't **true** pig latin - please do not change this basic algorithm). For a single word input the first letter is capitalized and the rest are lower case as shown in the example below.\n",
    "\n",
    "*Extra Credit (5 points): Have the 'to_piglatin' function check whether or not the input is multiple words and return the whole sentence in pig latin. The sentence will be returned in sentence case (only the first word capitalized). For this you may assume that a sentence always ends with a period and the input is always one sentence, never more than one. Make these changes in the 'to_piglatin' function - that is, if you want to do the extra credit the 'to_piglatin' function needs to work for both a single word and a sentence. NOT AS A SEPARATE FUNCTION.*\n",
    "\n",
    "Examples:\n",
    "```\n",
    "(format is: function call -> returns) - do not return this whole string just return the word after the arrow.\n",
    "\n",
    "to_piglatin('stay') ->  Aystay\n",
    "to_piglatin('Jared') -> Aredjay \n",
    "to_piglatin('and') -> Anday\n",
    "to_piglatin('CAR') -> Arcay\n",
    "```"
   ]
  },
  {
   "cell_type": "code",
   "execution_count": null,
   "metadata": {},
   "outputs": [],
   "source": [
    "text = \"My very photogenic mother died in a freak accident (picnic, lightning) when I was three, and, save for a pocket of warmth in the darkest past, nothing of her subsists within the hollows and dells of memory, over which, if you can still stand my style (I am writing under observation), the sun of my infancy had set: surely, you all know those redolent remnants of day suspended, with the midges, about some hedge in bloom or suddenly entered and traversed by the rambler, at the bottom of a hill, in the summer dusk; a furry warmth, golden midges.\"\n",
    "# the slashes just mean that the string continues onto the next line\n",
    "# if you print the text, it will make no difference\n",
    "result = [word[0] for word in text.split()]\n",
    "print(result)"
   ]
  },
  {
   "cell_type": "code",
   "execution_count": null,
   "metadata": {},
   "outputs": [],
   "source": [
    "import math \n",
    "\n",
    "result = [x for x in range(1, 100000, 3) if x == math.isqrt(x) ** 2]\n",
    "print(result)"
   ]
  },
  {
   "cell_type": "markdown",
   "metadata": {
    "deletable": false,
    "editable": false,
    "nbgrader": {
     "cell_type": "markdown",
     "checksum": "8e0a1dc4e896b7608d8d432e536c89e6",
     "grade": false,
     "grade_id": "cell-95fcefa2ff403faf",
     "locked": true,
     "schema_version": 3,
     "solution": false
    }
   },
   "source": [
    "## 5-2. Namespace Exercise\n",
    "\n",
    "### 5-2-1. Process Order (20 points)\n",
    "\n",
    "The following code defines a customer order list.   Each item in the list is a tuple containing the name of the item, the number requested, and the price per each.  \n",
    "\n",
    "Fill in just the `process_order` function below without changing any other code. This function should iterate through all items in the list, removing one item at a time and printing a nice message about it (from within the function).  Finally, confirm that the final print statement correctly displays the total price for all the items.\n",
    "\n",
    "Example:\n",
    "```\n",
    "You filled an order for 1 antacid for a total of $5.33\n",
    "You filled an order for 3 sour bites for a total of $6.99\n",
    "You filled an order for 1 gummy bears for a total of $1.99\n",
    "You filled an order for 4 oranges for a total of $12.88\n",
    "Total price: $27.19\n",
    "```"
   ]
  },
  {
   "cell_type": "code",
   "execution_count": null,
   "metadata": {
    "deletable": false,
    "editable": false,
    "nbgrader": {
     "cell_type": "code",
     "checksum": "bbd11b0f86a337ed1351768251acda39",
     "grade": true,
     "grade_id": "cell-b7c581157c7c15f0",
     "locked": true,
     "points": 20,
     "schema_version": 3,
     "solution": false
    }
   },
   "outputs": [],
   "source": [
    "total = 0\n",
    "\n",
    "def process_order(x_list):\n",
    "    # YOUR CODE HERE\n",
    "    global total\n",
    "    while (len(x_list) > 0):\n",
    "        order = x_list.pop()\n",
    "        current_total = order[1] * order[2]\n",
    "        print(F\"You filled an order for {order[1]} {order[0]} for a total of ${current_total:.2f}\")\n",
    "        total += current_total\n",
    "\n",
    "######################################################################################################\n",
    "# DO NOT CHANGE ANY OF THE CODE BELOW HERE                                                           #\n",
    "######################################################################################################\n",
    "\n",
    "x = [(\"oranges\", 4, 3.22),(\"gummy bears\",1,1.99),(\"sour bites\", 3, 2.33), (\"antacid\", 1, 5.33)]\n",
    "\n",
    "while(len(x)>0):\n",
    "    process_order(x)\n",
    "\n",
    "print(\"Total price: ${:.2f}\".format(total))"
   ]
  },
  {
   "cell_type": "markdown",
   "metadata": {
    "deletable": false,
    "editable": false,
    "nbgrader": {
     "cell_type": "markdown",
     "checksum": "383723235ebe304ae8a783e8c00bd9db",
     "grade": false,
     "grade_id": "cell-93cde9372690d753",
     "locked": true,
     "schema_version": 3,
     "solution": false
    }
   },
   "source": [
    "## 5-3. Functions as Objects (10 points)\n",
    "\n",
    "### 5-3-1. A Flexible \"Scoring\" Function\n",
    "\n",
    "The following code defines a list of names and also contains a header for the function `best`.  The `best` function takes two arguments: a generic scoring function, score, and a list of strings, names.  Fill in the function so that it applies a score function to each string in the names list and returns the name with the highest score. If there are ties in the list, your function should return the first item with the maximum score. The `best` function needs to be designed so that it can take any scoring function and return the name with the highest score.\n",
    "\n",
    "For this question, define a function called `len_score` that returns the length of a word.  Call the `best` function with the `len_score` function as a parameter.\n",
    "\n",
    "Example:\n",
    "```\n",
    "print(best(len_score, names), \"has the longest name.\")\n",
    "    \n",
    "McJagger has the longest name.\n",
    "```"
   ]
  },
  {
   "cell_type": "code",
   "execution_count": null,
   "metadata": {
    "deletable": false,
    "nbgrader": {
     "cell_type": "code",
     "checksum": "c7ae2d18ea8806f38325b98e9d4359f5",
     "grade": false,
     "grade_id": "cell-08cb8d30cb563aba",
     "locked": false,
     "schema_version": 3,
     "solution": true
    }
   },
   "outputs": [],
   "source": [
    "# YOUR CODE HERE\n",
    "### Q3-1 Grading Tag: Please put your entire solution in this cell. Don't edit this line.\n",
    "name = \"The French are certainly misunderstood: — but whether the fault is theirs, in not sufficiently explaining themselves, or speaking with that exact limitation and precision which one would expect on a point of such importance, and which, moreover, is so likely to be contested by us — or whether the fault may not be altogether on our side, in not understanding their language always so critically as to know “what they would be at” — I shall not decide; but ‘tis evident to me, when they affirm, “That they who have seen Paris, have seen every thing,” they must mean to speak of those who have seen it by day-light.\"\n",
    "name_split = name.split(' ')\n",
    "latin_name = ''\n",
    "for i in range(len(name_split)):\n",
    "    converted_word = name_split[i][1:] + name_split[i][0] + 'ay'\n",
    "    converted_word = converted_word.capitalize()\n",
    "    latin_name += converted_word + ' '\n",
    "print(latin_name)"
   ]
  },
  {
   "cell_type": "markdown",
   "metadata": {
    "deletable": false,
    "editable": false,
    "nbgrader": {
     "cell_type": "markdown",
     "checksum": "1fa01192f655fbb585dc05ed9b33e7fc",
     "grade": false,
     "grade_id": "cell-6bfd049ec823610f",
     "locked": true,
     "schema_version": 3,
     "solution": false
    }
   },
   "source": [
    "### 5-3-2. Using Our Flexible Function (5 points)\n",
    "\n",
    "**NOTE: Do not change your best function from the answer in 5-3-1 above! The best function should be able to take any scoring function and return the result.** (you also do not need to copy your best function from above - we will run the cell above and then this cell in succession) \n",
    "\n",
    "Define a function, `number_of_vowels`, that returns the number of vowels in a string.  Pass it to your `best` function to find the name in `names` with the most vowels.\n",
    "\n",
    "See how easy it is to change the score function for different functionalities!\n",
    "\n",
    "Example: \n",
    "```\n",
    "print(best(number_of_vowels, names), \"has the most vowels.\")\n",
    "\n",
    "Alexis has the most vowels.\n",
    "```"
   ]
  },
  {
   "cell_type": "code",
   "execution_count": null,
   "metadata": {},
   "outputs": [],
   "source": [
    "### Q3-2 Grading Tag: Please put your entire solution in this cell. Don't edit this line.\n",
    "def matrix_inverter():\n",
    "    matrix = '5 6 7 8'\n",
    "    if len(matrix) >= 1:\n",
    "        split_matrix = matrix.split(' ')\n",
    "        try:\n",
    "            converted_matrix = tuple(float(split_matrix[i]) for i in range(len(split_matrix)))\n",
    "            a, b, c, d = converted_matrix[0], converted_matrix[1], converted_matrix[2], converted_matrix[3]\n",
    "            q = 1 / (a * d - b * c)\n",
    "            a_i, b_i, c_i, d_i = a * q, -b * q, -c * q, d * q\n",
    "            print(F\"matrix: (({a:0.4f}, {b:0.4f}), ({c:0.4f}, {d:0.4f}))\")\n",
    "            print(F\"inverse: (({d_i:0.4f}, {b_i:0.4f}), ({c_i:0.4f}, {a_i:0.4f}))\")\n",
    "        except (ValueError, IndexError):\n",
    "            print(F\"Incorrect Format\")\n",
    "            matrix_inverter()\n",
    "    else:\n",
    "        print(F\"Incorrect format\")\n",
    "        matrix_inverter()\n",
    "matrix_inverter()"
   ]
  },
  {
   "cell_type": "markdown",
   "metadata": {
    "deletable": false,
    "editable": false,
    "nbgrader": {
     "cell_type": "markdown",
     "checksum": "9cda11ab182b2c2b81dced7aced23f0a",
     "grade": false,
     "grade_id": "cell-3dcbc34bff53d001",
     "locked": true,
     "schema_version": 3,
     "solution": false
    }
   },
   "source": [
    "We cannot help you in sanity checking you work, as you must pass the `lambda` function directly into your `best` function. But you can easily sanity check your solution yourself. "
   ]
  },
  {
   "cell_type": "markdown",
   "metadata": {
    "deletable": false,
    "editable": false,
    "nbgrader": {
     "cell_type": "markdown",
     "checksum": "8d93f79383260bc15c045b2684f98586",
     "grade": false,
     "grade_id": "cell-5de8992f4f2eb7d1",
     "locked": true,
     "schema_version": 3,
     "solution": false
    }
   },
   "source": [
    "## 5-4. Recursion Basics\n",
    "\n",
    "### 5-4-1. Computing Fibonacci Numbers (15 points)\n",
    "\n",
    "You are probably familiar (from two homework ago!) with the famous Fibonacci sequence of numbers, which begins like this:\n",
    "```\n",
    "1, 1, 2, 3, 5, 8, 13, 21...\n",
    "```\n",
    "We'll index from 0, so the 0th and 1st numbers are both 1.  The 2nd Fibonacci number is found by summing the 0th and 1st: 1 + 1 = 2.  The 3rd is found by summing the 1st and 2nd: 1 + 2 = 3.  After this point, each Fibonacci number is found by summing the previous two numbers.\n",
    "\n",
    "You are to write a recursive function to compute the nth Fibonacci number.  This means that your function will call itself and will **NOT** include explicit loops.\n",
    "\n",
    "Hint: Your function should include a line that looks a lot like the mathematical definition of the nth Fibonacci number.\n",
    "\n",
    "Another Hint: It's possible for a recursive function to call itself more than once.\n",
    "\n",
    "Example: \n",
    "```\n",
    "print(Fibonacci(1))\n",
    "\n",
    "1\n",
    "```"
   ]
  },
  {
   "cell_type": "code",
   "execution_count": null,
   "metadata": {},
   "outputs": [],
   "source": [
    "def fibonacci():\n",
    "    a, b = 0, 1\n",
    "    try:\n",
    "        user_input = 1000000000\n",
    "        while b <= user_input:\n",
    "            a, b = b, a + b\n",
    "            print(a, end=' ')\n",
    "    except ValueError:\n",
    "        print(F\"Please Enter a valid number\")\n",
    "        fibonacci()\n",
    "fibonacci()"
   ]
  },
  {
   "cell_type": "markdown",
   "metadata": {
    "deletable": false,
    "nbgrader": {
     "cell_type": "markdown",
     "checksum": "86f713fc21b3caaec9d4c87223a7ab10",
     "grade": true,
     "grade_id": "cell-aa13d77f4cd1437c",
     "locked": false,
     "points": 5,
     "schema_version": 3,
     "solution": true
    }
   },
   "source": [
    "YOUR ANSWER HERE"
   ]
  },
  {
   "cell_type": "markdown",
   "metadata": {
    "deletable": false,
    "editable": false,
    "nbgrader": {
     "cell_type": "markdown",
     "checksum": "e37fe262d79bc2c0786f94da74eb4a9d",
     "grade": false,
     "grade_id": "cell-9ee7b96231fea756",
     "locked": true,
     "schema_version": 3,
     "solution": false
    }
   },
   "source": [
    "## 5-5. Exceptions Exercises\n",
    "\n",
    "### 5-5-1. Re-factoring for Exceptions (5 points)\n",
    "\n",
    "Change the code below that attempts to compute a reciprocal.  It should keep prompting the user for a number until a valid number is entered.  If the user enters 0, the program should print that zero does not have a reciprocal and then terminate."
   ]
  },
  {
   "cell_type": "code",
   "execution_count": null,
   "metadata": {},
   "outputs": [],
   "source": [
    "x = 1000000000\n",
    "epsilon = 0.00001\n",
    "num_guesses = 0\n",
    "low = 0.0\n",
    "high = x\n",
    "if x < 1:\n",
    "    low = x\n",
    "    high = 1\n",
    "ans = (high + low)/2.0\n",
    "while high - low >= 2 * epsilon:\n",
    "    print(\"low =\",low,\"high =\", high)\n",
    "    num_guesses += 1\n",
    "    if ans ** 2 < x:\n",
    "        low = ans\n",
    "    else:\n",
    "        high = ans\n",
    "    ans = (high + low)/2.0\n",
    "print('number of guesses =', num_guesses)\n",
    "print(ans, 'is close to square root of', x)"
   ]
  },
  {
   "cell_type": "code",
   "execution_count": null,
   "metadata": {},
   "outputs": [],
   "source": [
    "def pascals_triangle_method():\n",
    "    try:\n",
    "        user_input = 300\n",
    "        pascals_triangle = []\n",
    "        pascals_triangle.append([1])\n",
    "        for i in range(1, user_input + 1):\n",
    "            prev_list = pascals_triangle[i - 1]\n",
    "            current_list = []\n",
    "            current_list.append(1)\n",
    "            # Looping through till i is unnecessary. Going to half way is enough since\n",
    "            # the first half is exactly the same as the second half. I have gone for \n",
    "            # readibility rather than efficiency in this case, since this optimization\n",
    "            # will require handling of even and odd cases.\n",
    "            for n in range(1, i):\n",
    "                current_list.append(prev_list[n - 1] + prev_list[n])\n",
    "            current_list.append(1)\n",
    "            pascals_triangle.append(current_list)\n",
    "        print(pascals_triangle[user_input - 1])\n",
    "    except ValueError:\n",
    "        print(\"Invalid Number: \")\n",
    "        pascals_triangle_method()\n",
    "pascals_triangle_method()"
   ]
  },
  {
   "cell_type": "markdown",
   "metadata": {
    "deletable": false,
    "editable": false,
    "nbgrader": {
     "cell_type": "markdown",
     "checksum": "e7c06a0ba31f29bfec88395d9c226a6c",
     "grade": false,
     "grade_id": "cell-5b7e3f820aff257f",
     "locked": true,
     "schema_version": 3,
     "solution": false
    }
   },
   "source": [
    "We cannot help you sanity check your code, but you can easily check your solution yourself. What non-valid entries could there be and how should your code behave?"
   ]
  },
  {
   "cell_type": "code",
   "execution_count": null,
   "metadata": {},
   "outputs": [],
   "source": [
    "# Q4-1-2 Grading Tag:\n",
    "\n",
    "# Implement Here\n",
    "n = 80\n",
    "result = [[0 for j in range(n)] for i in range(n)]\n",
    "for i in range(n):\n",
    "    result[i][0] = 1\n",
    "\n",
    "# This approach uses the cells [i - 1][j] and [i - 1][j - 1]\n",
    "# The reason this is correct is because for the current cell, \n",
    "# we need to know the values of the cell directly above it,\n",
    "# And the cell directly diagonal (from above)\n",
    "for i in range(1, n):\n",
    "    for j in range(1, i + 1):\n",
    "        result[i][j] = result[i - 1][j] + result[i - 1][j - 1]\n",
    "\n",
    "# I am not able to format this board after board size 6\n",
    "# I have tried fstrings but with not much avail.\n",
    "for eles in result:\n",
    "    print(*eles, ' ')\n"
   ]
  },
  {
   "cell_type": "markdown",
   "metadata": {
    "deletable": false,
    "editable": false,
    "nbgrader": {
     "cell_type": "markdown",
     "checksum": "f8f8a25039046602028e9b47b270be23",
     "grade": false,
     "grade_id": "cell-b738e6d3309e57ef",
     "locked": true,
     "schema_version": 3,
     "solution": false
    }
   },
   "source": [
    "### 5-5-2 Raising Custom Exceptions (15 points)\n",
    "\n",
    "Write a function called `weighted_avg` that takes a list of grades and a corresponding list of weights and returns the weighted average of the grades.  Your function should raise an exception if:\n",
    "- a weight is less than 0 or greater than 100\n",
    "- the weights do not add to 100\n",
    "- the number of weights and grades are not equal\n",
    "- a grade is below 0 (grades above 100 would be considered extra credit and are acceptable)\n",
    "\n",
    "Run your function on `grades1` with `weights1` and `grades2` with `weights2` and `grades3` with `weights3` and `grades4` with `weights4`, defined below.  Catch the errors generated in each case as an exception and print a useful message for the user.  \n",
    "\n",
    "Hint: The first 3 test cases should return an exception!\n",
    "\n",
    "Example:\n",
    "\n",
    "```\n",
    "weighted_avg(grades4, weights4) \n",
    "\n",
    "85.0\n",
    "```"
   ]
  },
  {
   "cell_type": "code",
   "execution_count": null,
   "metadata": {
    "deletable": false,
    "editable": false,
    "nbgrader": {
     "cell_type": "code",
     "checksum": "5e507e662728a0e7f26f64ab11a6c35b",
     "grade": true,
     "grade_id": "cell-70fe59b4d7ff1dcd",
     "locked": true,
     "points": 2,
     "schema_version": 3,
     "solution": false
    }
   },
   "outputs": [],
   "source": [
    "word1 = \"Open the crate but don't break the glass.\"\n",
    "word2 = \"Add the sum to the product of these three.\"\n",
    "set1 = [ch for ch in word1]\n",
    "set2 = [ch for ch in word2]\n",
    "result = sorted({ch1 for ch1 in set1 if ch1 in set2})\n",
    "print(\"Letters in common: \" + ''.join(result))"
   ]
  },
  {
   "cell_type": "markdown",
   "metadata": {
    "deletable": false,
    "editable": false,
    "nbgrader": {
     "cell_type": "markdown",
     "checksum": "6f49f6d626a8ae3490a60cd776569bb4",
     "grade": false,
     "grade_id": "cell-c81ec0d9746e1153",
     "locked": true,
     "schema_version": 3,
     "solution": false
    }
   },
   "source": [
    "## If you have feedback for this homework, please submit it using the link below:\n",
    "\n",
    "http://goo.gl/forms/74yCiQTf6k"
   ]
  }
 ],
 "metadata": {
  "anaconda-cloud": {},
  "kernelspec": {
   "display_name": "Python 3",
   "language": "python",
   "name": "python3"
  },
  "language_info": {
   "codemirror_mode": {
    "name": "ipython",
    "version": 3
   },
   "file_extension": ".py",
   "mimetype": "text/x-python",
   "name": "python",
   "nbconvert_exporter": "python",
   "pygments_lexer": "ipython3",
   "version": "3.8.5"
  }
 },
 "nbformat": 4,
 "nbformat_minor": 1
}